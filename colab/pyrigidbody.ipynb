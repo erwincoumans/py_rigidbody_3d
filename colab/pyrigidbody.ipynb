{
  "nbformat": 4,
  "nbformat_minor": 0,
  "metadata": {
    "colab": {
      "name": "pyrigidbody.ipynb",
      "provenance": []
    },
    "kernelspec": {
      "name": "python3",
      "display_name": "Python 3"
    },
    "language_info": {
      "name": "python"
    }
  },
  "cells": [
    {
      "cell_type": "code",
      "metadata": {
        "colab": {
          "base_uri": "https://localhost:8080/"
        },
        "id": "epLrEtQqCKKq",
        "outputId": "876c64cd-9bcc-43fe-c5be-8d7602732806"
      },
      "source": [
        "!pip install pyrigidbody3d\n",
        "from pyrigidbody3d import world\n",
        "world = world.World(100)"
      ],
      "execution_count": 7,
      "outputs": [
        {
          "output_type": "stream",
          "text": [
            "Requirement already satisfied: pyrigidbody3d in /usr/local/lib/python3.7/dist-packages (0.2)\n",
            "Requirement already satisfied: numpy in /usr/local/lib/python3.7/dist-packages (from pyrigidbody3d) (1.19.5)\n"
          ],
          "name": "stdout"
        }
      ]
    },
    {
      "cell_type": "code",
      "metadata": {
        "id": "A5P1alZDCrSw"
      },
      "source": [
        "\n",
        "import copy\n",
        "import numpy as np\n",
        "\n",
        "from pyrigidbody3d import geometry\n",
        "from pyrigidbody3d import rigidbody\n",
        "from pyrigidbody3d import world\n",
        "\n",
        "\n",
        "SIMULATION_TIME_STEP = 1. / 60.\n",
        "NUM_SOLVER_ITERATIONS = 20\n",
        "\n",
        "\n",
        "\n",
        "def test_world_step():\n",
        "    # For now we only test if the code is running. No unit test yet.\n",
        "    my_world = world.World(NUM_SOLVER_ITERATIONS)\n",
        "\n",
        "    plane = geometry.Plane()\n",
        "    plane_id = rigidbody.RigidBody(inv_mass=0.0, collision_shape=plane)\n",
        "    my_world.bodies.append(plane_id)\n",
        "\n",
        "    sphere = geometry.Sphere(0.5)\n",
        "    sphere_id = rigidbody.RigidBody(inv_mass=1.0, collision_shape=sphere)\n",
        "    sphere_id.world_pose.position = np.array([0., 0., 0.6])\n",
        "    my_world.bodies.append(sphere_id)\n",
        "\n",
        "    dt = SIMULATION_TIME_STEP\n",
        "    for _ in range(20):\n",
        "      my_world.step(dt)\n",
        "      #for body in my_world.bodies:\n",
        "      #  print(\"body=\",body.world_pose.position)\n",
        "\n",
        "def test_friction():\n",
        "    my_world = world.World(NUM_SOLVER_ITERATIONS)\n",
        "\n",
        "    plane = geometry.Plane()\n",
        "    body_0 = rigidbody.RigidBody(inv_mass=0.0, collision_shape=plane)\n",
        "    body_0.friction_coeffcient = 1.0\n",
        "    my_world.bodies.append(body_0)\n",
        "    original_plane_pose = copy.deepcopy(body_0.world_pose)\n",
        "\n",
        "    radius = 0.5\n",
        "    sphere = geometry.Sphere(radius)\n",
        "    body_1 = rigidbody.RigidBody(inv_mass=1.0, collision_shape=sphere)\n",
        "    body_1.world_pose.position = np.array([0., 0., .5])\n",
        "    body_1.linear_velocity = np.array([0., 1, 0])\n",
        "    body_1.friction_coeffcient = 1.0\n",
        "    my_world.bodies.append(body_1)\n",
        "\n",
        "    dt = SIMULATION_TIME_STEP\n",
        "\n",
        "  \n",
        "    for _ in range(20):\n",
        "      my_world.step(dt)\n",
        "\n",
        "    # Velocity at contact point with ground is close to zero.\n",
        "    contact_vel = body_1.linear_velocity + np.cross(body_1.angular_velocity,\n",
        "                                                    np.array([0, 0, -radius]))\n",
        "test_world_step()\n",
        "test_friction()"
      ],
      "execution_count": 22,
      "outputs": []
    }
  ]
}