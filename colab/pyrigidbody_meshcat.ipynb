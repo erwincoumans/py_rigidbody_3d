{
  "nbformat": 4,
  "nbformat_minor": 0,
  "metadata": {
    "colab": {
      "name": "PyRigidBody3DMeshCat.ipynb",
      "provenance": [],
      "collapsed_sections": []
    },
    "kernelspec": {
      "name": "python3",
      "display_name": "Python 3"
    },
    "language_info": {
      "name": "python"
    }
  },
  "cells": [
    {
      "cell_type": "code",
      "metadata": {
        "id": "B2ocydb6KBnY"
      },
      "source": [
        "!pip install pyrigidbody3d\n",
        "!git clone https://github.com/erwincoumans/meshcat-python --branch colab --recursive\n",
        "!pip3 install u-msgpack-python\n",
        "import sys\n",
        "sys.path.append('/content/meshcat-python/src')"
      ],
      "execution_count": null,
      "outputs": []
    },
    {
      "cell_type": "code",
      "metadata": {
        "id": "73Es4uJuLxz7"
      },
      "source": [
        "import copy\n",
        "import numpy as np\n",
        "from pyrigidbody3d import geometry\n",
        "from pyrigidbody3d import rigidbody\n",
        "from pyrigidbody3d import world\n",
        "\n",
        "# real-time updates are a bit choppy\n",
        "from meshcat.jupyter import JupyterVisualizer\n",
        "import meshcat.geometry as g\n",
        "import meshcat.transformations as tf\n",
        "import math\n",
        "import time\n"
      ],
      "execution_count": 2,
      "outputs": []
    },
    {
      "cell_type": "code",
      "metadata": {
        "id": "fJegkBqvLdSB"
      },
      "source": [
        "SIMULATION_TIME_STEP = 1. / 60.#240.\n",
        "NUM_SOLVER_ITERATIONS = 20\n",
        "RADIUS=0.5\n",
        "\n",
        "physics_world = world.World(NUM_SOLVER_ITERATIONS)\n",
        "vis = JupyterVisualizer()\n",
        "\n",
        "#physics plane\n",
        "plane = geometry.Plane()\n",
        "plane_id = rigidbody.RigidBody(inv_mass=0.0, collision_shape=plane)\n",
        "physics_world.bodies.append(plane_id)\n",
        "\n",
        "#rendering plane\n",
        "ground = g.Box([10,10,0.01])\n",
        "vis['ground'].set_object(ground,g.MeshLambertMaterial( color=0xffffff, wireframe=False))\n",
        "\n",
        "#physics sphere\n",
        "sphere = geometry.Sphere(RADIUS)\n",
        "sphere_id = rigidbody.RigidBody(inv_mass=1.0, collision_shape=sphere)\n",
        "sphere_id.world_pose.position = np.array([0., 0., 2.6])\n",
        "physics_world.bodies.append(sphere_id)\n",
        "\n",
        "#rendering sphere\n",
        "sphere = g.Sphere([RADIUS])\n",
        "vis['sphere'].set_object(sphere,g.MeshPhongMaterial(color=0x5555ff, wireframe=True))\n",
        "\n",
        "\n",
        "dt = SIMULATION_TIME_STEP\n",
        "#todo: convert the sphere orientation quaternion to mat3x3\n",
        "mat4 = tf.rotation_matrix(0, [0, 0, 1])\n",
        "mat4[:3, 3] = sphere_id.world_pose.position\n",
        "vis['sphere'].set_transform(mat4)\n",
        "\n",
        "#real-time updates are a bit choppy, so record an animation instead \n",
        "#for _ in range(200):\n",
        "#  physics_world.step(dt)\n",
        "#  mat4[:3, 3] = sphere_id.world_pose.position\n",
        "#  vis['sphere'].set_transform(mat4)\n",
        "#  time.sleep(0.5*SIMULATION_TIME_STEP)\n",
        "\n",
        "from meshcat.animation import Animation\n",
        "import meshcat.transformations as tf\n",
        "\n",
        "sphere_id.world_pose.position = np.array([0., 0., 2.6])\n",
        "\n",
        "anim = Animation()\n",
        "\n",
        "for frame_index in range(200):\n",
        "  physics_world.step(dt)\n",
        "  mat4[:3, 3] = sphere_id.world_pose.position\n",
        "  with anim.at_frame(vis, frame_index) as frame:\n",
        "    frame[\"sphere\"].set_transform(mat4)\n",
        "    \n",
        "# `set_animation` actually sends the animation to the\n",
        "# viewer. By default, the viewer will play the animation\n",
        "# right away. To avoid that, you can also pass `play=False`. \n",
        "vis.set_animation(anim)#, play=False)\n",
        "\n"
      ],
      "execution_count": null,
      "outputs": []
    }
  ]
}